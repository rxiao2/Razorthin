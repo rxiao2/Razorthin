{
 "cells": [
  {
   "cell_type": "code",
   "execution_count": 19,
   "metadata": {},
   "outputs": [
    {
     "name": "stdout",
     "output_type": "stream",
     "text": [
      "     Unnamed: 0  year   winner    loser  turnout           state  \\\n",
      "0             0  2020  2834790  2586605  5502778  North Carolina   \n",
      "1             1  2020   328548   250860   603587         Montana   \n",
      "2             2  2020   235629    90925   357859    North Dakota   \n",
      "3             3  2020   918754   442754  1438711            Utah   \n",
      "4             4  2020   497944   237024   768804   West Virginia   \n",
      "..          ...   ...      ...      ...      ...             ...   \n",
      "327         327  1995   984499   565861  1550360       Louisiana   \n",
      "328         328  1995   455261   364210   819471     Mississippi   \n",
      "329         329  2021  1339471  1255185  2614886      New Jersey   \n",
      "330         330  2021  1663158  1599470  3288327      California   \n",
      "331         331  2021  1339471  1255185  2614886        Virginia   \n",
      "\n",
      "     winning margin        wt  North Carolina  Montana  ...  Kansas  \\\n",
      "0            248185  0.045102               1        0  ...       0   \n",
      "1             77688  0.128711               0        1  ...       0   \n",
      "2            144704  0.404360               0        0  ...       0   \n",
      "3            476000  0.330852               0        0  ...       0   \n",
      "4            260920  0.339384               0        0  ...       0   \n",
      "..              ...       ...             ...      ...  ...     ...   \n",
      "327          418638  0.270026               0        0  ...       0   \n",
      "328           91051  0.111109               0        0  ...       0   \n",
      "329           84286  0.032233               0        0  ...       0   \n",
      "330           63688  0.019368               0        0  ...       0   \n",
      "331           84286  0.032233               0        0  ...       0   \n",
      "\n",
      "     Minnesota  Wisconsin  Alaska  Florida  Virginia  New Jersey  90s  00s  \\\n",
      "0            0          0       0        0         0           0    0    0   \n",
      "1            0          0       0        0         0           0    0    0   \n",
      "2            0          0       0        0         0           0    0    0   \n",
      "3            0          0       0        0         0           0    0    0   \n",
      "4            0          0       0        0         0           0    0    0   \n",
      "..         ...        ...     ...      ...       ...         ...  ...  ...   \n",
      "327          0          0       0        0         0           0    1    0   \n",
      "328          0          0       0        0         0           0    1    0   \n",
      "329          0          0       0        0         0           1    0    0   \n",
      "330          0          0       0        0         0           0    0    0   \n",
      "331          0          0       0        0         1           0    0    0   \n",
      "\n",
      "     10s  \n",
      "0      1  \n",
      "1      1  \n",
      "2      1  \n",
      "3      1  \n",
      "4      1  \n",
      "..   ...  \n",
      "327    0  \n",
      "328    0  \n",
      "329    1  \n",
      "330    1  \n",
      "331    1  \n",
      "\n",
      "[332 rows x 61 columns]\n"
     ]
    }
   ],
   "source": [
    "import pandas as pd\n",
    "import numpy as np\n",
    "\n",
    "df = pd.read_excel(r\"C:\\Users\\Jacki\\Desktop\\Gubernatorial elections in the USA augmented.xlsx\")\n",
    "print(df)"
   ]
  },
  {
   "cell_type": "code",
   "execution_count": 20,
   "metadata": {},
   "outputs": [
    {
     "name": "stdout",
     "output_type": "stream",
     "text": [
      "274    0.464373\n",
      "275    0.355962\n",
      "276    0.011128\n",
      "277    0.156216\n",
      "278    0.295066\n",
      "279    0.263447\n",
      "280    0.203333\n",
      "281    0.006441\n",
      "282    0.279298\n",
      "283    0.105458\n",
      "284    0.087147\n",
      "285    0.013032\n",
      "286    0.399230\n",
      "287    0.036243\n",
      "288    0.058670\n",
      "289    0.528153\n",
      "290    0.396799\n",
      "291    0.103310\n",
      "292    0.034948\n",
      "293    0.244312\n",
      "294    0.021106\n",
      "295    0.079385\n",
      "296    0.102446\n",
      "297    0.363133\n",
      "298    0.090621\n",
      "299    0.241815\n",
      "300    0.056571\n",
      "301    0.171422\n",
      "302    0.364450\n",
      "303    0.263821\n",
      "304    0.094905\n",
      "305    0.081565\n",
      "306    0.321896\n",
      "307    0.399096\n",
      "308    0.372894\n",
      "309    0.150125\n",
      "310    0.213147\n",
      "311    0.157635\n",
      "312    0.214511\n",
      "313    0.011344\n",
      "314    0.134711\n",
      "315    0.389904\n",
      "316    0.048284\n",
      "317    0.171459\n",
      "318    0.583355\n",
      "319    0.182840\n",
      "320    0.134028\n",
      "321    0.323846\n",
      "322    0.525628\n",
      "323    0.517028\n",
      "324    0.159119\n",
      "325    0.059844\n",
      "326    0.022000\n",
      "327    0.270026\n",
      "328    0.111109\n",
      "Name: wt, dtype: float64 157    0.035776\n",
      "158    0.173644\n",
      "159    0.356266\n",
      "160    0.181919\n",
      "161    0.193203\n",
      "         ...   \n",
      "269    0.053806\n",
      "270    0.137729\n",
      "271    0.141471\n",
      "272    0.187021\n",
      "273    0.029958\n",
      "Name: wt, Length: 117, dtype: float64 0      0.045102\n",
      "1      0.128711\n",
      "2      0.404360\n",
      "3      0.330852\n",
      "4      0.339384\n",
      "         ...   \n",
      "155    0.057681\n",
      "156    0.427352\n",
      "329    0.032233\n",
      "330    0.019368\n",
      "331    0.032233\n",
      "Name: wt, Length: 160, dtype: float64\n"
     ]
    }
   ],
   "source": [
    "wt_90 = df[df['90s']==1]['wt']\n",
    "wt_00 = df[df['00s']==1]['wt']\n",
    "wt_10 = df[df['10s']==1]['wt']\n",
    "print(wt_90,wt_00,wt_10)\n"
   ]
  },
  {
   "cell_type": "code",
   "execution_count": 21,
   "metadata": {},
   "outputs": [
    {
     "data": {
      "text/plain": [
       "160"
      ]
     },
     "execution_count": 21,
     "metadata": {},
     "output_type": "execute_result"
    }
   ],
   "source": [
    "len(wt_10)"
   ]
  },
  {
   "cell_type": "code",
   "execution_count": 22,
   "metadata": {},
   "outputs": [
    {
     "data": {
      "text/plain": [
       "<function matplotlib.pyplot.show(close=None, block=None)>"
      ]
     },
     "execution_count": 22,
     "metadata": {},
     "output_type": "execute_result"
    },
    {
     "data": {
      "image/png": "[encoded data removed]",
      "text/plain": [
       "<Figure size 432x288 with 1 Axes>"
      ]
     },
     "metadata": {
      "needs_background": "light"
     },
     "output_type": "display_data"
    }
   ],
   "source": [
    "import matplotlib.pyplot as plt\n",
    "from matplotlib.ticker import FormatStrFormatter\n",
    "plt.hist(wt_90,density=True)\n",
    "plt.show"
   ]
  },
  {
   "cell_type": "code",
   "execution_count": 31,
   "metadata": {},
   "outputs": [],
   "source": [
    "def count_number(var, rg):\n",
    "    # This function finds the number of observations within a certain range=[lb,hb).\n",
    "    # var should be a list of observations (numbers).\n",
    "    # lb (lower bound) and hb (higher bound) are real number such that lb<hb.\n",
    "    counter = 0 \n",
    "    for i in var:\n",
    "        if rg[0]<= i < rg[1]:\n",
    "            counter += 1\n",
    "        else:\n",
    "            pass\n",
    "    return counter\n",
    "\n",
    "def plot_data_generator(var,customized_scale):\n",
    "    # customized scale is a list of ticks such as [0,0.001,0.005,0.01,0.02,0.04,0.06,1], the order must be from small to large.\n",
    "    # var is a series of numbers.\n",
    "\n",
    "    rgs = []\n",
    "    dsties = []\n",
    "    for i in range(len(customized_scale)):\n",
    "        if i == len(customized_scale)-1:\n",
    "            pass\n",
    "        else:\n",
    "            rg = [customized_scale[i],customized_scale[i+1]]\n",
    "            rgs.append(rg)\n",
    "    print(rgs)\n",
    "          \n",
    "    for rg in rgs:\n",
    "        dsty = count_number(var,rg)/len(var)\n",
    "        dsties.append(dsty) \n",
    "    \n",
    "    return dsties\n"
   ]
  },
  {
   "cell_type": "code",
   "execution_count": 35,
   "metadata": {},
   "outputs": [
    {
     "name": "stdout",
     "output_type": "stream",
     "text": [
      "[[0, 0.01], [0.01, 0.05], [0.05, 0.1], [0.1, 0.2], [0.2, 0.5], [0.5, 1]]\n",
      "[[0, 0.01], [0.01, 0.05], [0.05, 0.1], [0.1, 0.2], [0.2, 0.5], [0.5, 1]]\n",
      "[[0, 0.01], [0.01, 0.05], [0.05, 0.1], [0.1, 0.2], [0.2, 0.5], [0.5, 1]]\n",
      "90s data is:[0.01818181818181818, 0.14545454545454545, 0.14545454545454545, 0.23636363636363636, 0.38181818181818183, 0.07272727272727272]; 00s data is [0.03418803418803419, 0.17094017094017094, 0.24786324786324787, 0.28205128205128205, 0.23076923076923078, 0.03418803418803419]; 10s data is [0.0375, 0.24375, 0.16875, 0.275, 0.26875, 0.00625]\n",
      "1.0\n"
     ]
    }
   ],
   "source": [
    "data_90 = plot_data_generator(wt_90,[0,0.01,0.05,0.1,0.2,0.5,1])\n",
    "data_00 = plot_data_generator(wt_00,[0,0.01,0.05,0.1,0.2,0.5,1])\n",
    "data_10 = plot_data_generator(wt_10,[0,0.01,0.05,0.1,0.2,0.5,1])\n",
    "p=0\n",
    "for i in data_90:\n",
    "   p+=i \n",
    "print(f'90s data is:{data_90}; 00s data is {data_00}; 10s data is {data_10}')\n",
    "print(p)"
   ]
  },
  {
   "cell_type": "code",
   "execution_count": 25,
   "metadata": {},
   "outputs": [
    {
     "data": {
      "image/png": "[encoded data removed]",
      "text/plain": [
       "<Figure size 432x288 with 1 Axes>"
      ]
     },
     "metadata": {
      "needs_background": "light"
     },
     "output_type": "display_data"
    }
   ],
   "source": [
    "fig, ax = plt.subplots()\n",
    "counts, bins, patches = ax.hist(wt_00,bins=[0,0.01,0.02,0.05,1],facecolor='yellow', edgecolor='gray')\n",
    "ax.set_xticks(bins)\n",
    "\n",
    "ax.xaxis.set_major_formatter(FormatStrFormatter('%0.1f'))\n",
    "\n",
    "plt.subplots_adjust(bottom=0.15)\n",
    "plt.show()"
   ]
  },
  {
   "cell_type": "code",
   "execution_count": null,
   "metadata": {},
   "outputs": [],
   "source": []
  }
 ],
 "metadata": {
  "interpreter": {
   "hash": "9c0da2c655dd10c63430f470bfaa151a19611fe7c8ee12f512f7d79d8823f5fb"
  },
  "kernelspec": {
   "display_name": "Python 3.9.6 64-bit",
   "language": "python",
   "name": "python3"
  },
  "language_info": {
   "codemirror_mode": {
    "name": "ipython",
    "version": 3
   },
   "file_extension": ".py",
   "mimetype": "text/x-python",
   "name": "python",
   "nbconvert_exporter": "python",
   "pygments_lexer": "ipython3",
   "version": "3.9.6"
  },
  "orig_nbformat": 4
 },
 "nbformat": 4,
 "nbformat_minor": 2
}
